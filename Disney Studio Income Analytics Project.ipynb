{
 "cells": [
  {
   "cell_type": "markdown",
   "metadata": {},
   "source": [
    "# <center> Disney Studio Income Analysis"
   ]
  },
  {
   "cell_type": "markdown",
   "metadata": {},
   "source": [
    "## Import Libraries"
   ]
  },
  {
   "cell_type": "code",
   "execution_count": 5,
   "metadata": {},
   "outputs": [],
   "source": [
    "import pandas as pd\n",
    "import numpy as np\n",
    "import matplotlib.pyplot as plt"
   ]
  },
  {
   "cell_type": "code",
   "execution_count": 6,
   "metadata": {},
   "outputs": [],
   "source": [
    "import seaborn as sns \n",
    "import warnings \n",
    "warnings.filterwarnings(action=\"ignore\")"
   ]
  },
  {
   "cell_type": "markdown",
   "metadata": {},
   "source": [
    "## Task 1: Data Exploration"
   ]
  },
  {
   "cell_type": "markdown",
   "metadata": {},
   "source": [
    "Checking Null Values , release_date into datatime , best & worst total gross"
   ]
  },
  {
   "cell_type": "code",
   "execution_count": 7,
   "metadata": {
    "scrolled": true
   },
   "outputs": [
    {
     "data": {
      "text/html": [
       "<div>\n",
       "<style scoped>\n",
       "    .dataframe tbody tr th:only-of-type {\n",
       "        vertical-align: middle;\n",
       "    }\n",
       "\n",
       "    .dataframe tbody tr th {\n",
       "        vertical-align: top;\n",
       "    }\n",
       "\n",
       "    .dataframe thead th {\n",
       "        text-align: right;\n",
       "    }\n",
       "</style>\n",
       "<table border=\"1\" class=\"dataframe\">\n",
       "  <thead>\n",
       "    <tr style=\"text-align: right;\">\n",
       "      <th></th>\n",
       "      <th>movie_title</th>\n",
       "      <th>release_date</th>\n",
       "      <th>genre</th>\n",
       "      <th>mpaa_rating</th>\n",
       "      <th>total_gross</th>\n",
       "      <th>inflation_adjusted_gross</th>\n",
       "    </tr>\n",
       "  </thead>\n",
       "  <tbody>\n",
       "    <tr>\n",
       "      <th>0</th>\n",
       "      <td>Snow White and the Seven Dwarfs</td>\n",
       "      <td>1937-12-21</td>\n",
       "      <td>Musical</td>\n",
       "      <td>G</td>\n",
       "      <td>184925485</td>\n",
       "      <td>5228953251</td>\n",
       "    </tr>\n",
       "    <tr>\n",
       "      <th>1</th>\n",
       "      <td>Pinocchio</td>\n",
       "      <td>1940-02-09</td>\n",
       "      <td>Adventure</td>\n",
       "      <td>G</td>\n",
       "      <td>84300000</td>\n",
       "      <td>2188229052</td>\n",
       "    </tr>\n",
       "    <tr>\n",
       "      <th>2</th>\n",
       "      <td>Fantasia</td>\n",
       "      <td>1940-11-13</td>\n",
       "      <td>Musical</td>\n",
       "      <td>G</td>\n",
       "      <td>83320000</td>\n",
       "      <td>2187090808</td>\n",
       "    </tr>\n",
       "    <tr>\n",
       "      <th>3</th>\n",
       "      <td>Song of the South</td>\n",
       "      <td>1946-11-12</td>\n",
       "      <td>Adventure</td>\n",
       "      <td>G</td>\n",
       "      <td>65000000</td>\n",
       "      <td>1078510579</td>\n",
       "    </tr>\n",
       "    <tr>\n",
       "      <th>4</th>\n",
       "      <td>Cinderella</td>\n",
       "      <td>1950-02-15</td>\n",
       "      <td>Drama</td>\n",
       "      <td>G</td>\n",
       "      <td>85000000</td>\n",
       "      <td>920608730</td>\n",
       "    </tr>\n",
       "    <tr>\n",
       "      <th>...</th>\n",
       "      <td>...</td>\n",
       "      <td>...</td>\n",
       "      <td>...</td>\n",
       "      <td>...</td>\n",
       "      <td>...</td>\n",
       "      <td>...</td>\n",
       "    </tr>\n",
       "    <tr>\n",
       "      <th>574</th>\n",
       "      <td>The Light Between Oceans</td>\n",
       "      <td>2016-09-02</td>\n",
       "      <td>Drama</td>\n",
       "      <td>PG-13</td>\n",
       "      <td>12545979</td>\n",
       "      <td>12545979</td>\n",
       "    </tr>\n",
       "    <tr>\n",
       "      <th>575</th>\n",
       "      <td>Queen of Katwe</td>\n",
       "      <td>2016-09-23</td>\n",
       "      <td>Drama</td>\n",
       "      <td>PG</td>\n",
       "      <td>8874389</td>\n",
       "      <td>8874389</td>\n",
       "    </tr>\n",
       "    <tr>\n",
       "      <th>576</th>\n",
       "      <td>Doctor Strange</td>\n",
       "      <td>2016-11-04</td>\n",
       "      <td>Adventure</td>\n",
       "      <td>PG-13</td>\n",
       "      <td>232532923</td>\n",
       "      <td>232532923</td>\n",
       "    </tr>\n",
       "    <tr>\n",
       "      <th>577</th>\n",
       "      <td>Moana</td>\n",
       "      <td>2016-11-23</td>\n",
       "      <td>Adventure</td>\n",
       "      <td>PG</td>\n",
       "      <td>246082029</td>\n",
       "      <td>246082029</td>\n",
       "    </tr>\n",
       "    <tr>\n",
       "      <th>578</th>\n",
       "      <td>Rogue One: A Star Wars Story</td>\n",
       "      <td>2016-12-16</td>\n",
       "      <td>Adventure</td>\n",
       "      <td>PG-13</td>\n",
       "      <td>529483936</td>\n",
       "      <td>529483936</td>\n",
       "    </tr>\n",
       "  </tbody>\n",
       "</table>\n",
       "<p>579 rows × 6 columns</p>\n",
       "</div>"
      ],
      "text/plain": [
       "                         movie_title release_date      genre mpaa_rating  \\\n",
       "0    Snow White and the Seven Dwarfs   1937-12-21    Musical           G   \n",
       "1                          Pinocchio   1940-02-09  Adventure           G   \n",
       "2                           Fantasia   1940-11-13    Musical           G   \n",
       "3                  Song of the South   1946-11-12  Adventure           G   \n",
       "4                         Cinderella   1950-02-15      Drama           G   \n",
       "..                               ...          ...        ...         ...   \n",
       "574         The Light Between Oceans   2016-09-02      Drama       PG-13   \n",
       "575                   Queen of Katwe   2016-09-23      Drama          PG   \n",
       "576                   Doctor Strange   2016-11-04  Adventure       PG-13   \n",
       "577                            Moana   2016-11-23  Adventure          PG   \n",
       "578     Rogue One: A Star Wars Story   2016-12-16  Adventure       PG-13   \n",
       "\n",
       "     total_gross  inflation_adjusted_gross  \n",
       "0      184925485                5228953251  \n",
       "1       84300000                2188229052  \n",
       "2       83320000                2187090808  \n",
       "3       65000000                1078510579  \n",
       "4       85000000                 920608730  \n",
       "..           ...                       ...  \n",
       "574     12545979                  12545979  \n",
       "575      8874389                   8874389  \n",
       "576    232532923                 232532923  \n",
       "577    246082029                 246082029  \n",
       "578    529483936                 529483936  \n",
       "\n",
       "[579 rows x 6 columns]"
      ]
     },
     "execution_count": 7,
     "metadata": {},
     "output_type": "execute_result"
    }
   ],
   "source": [
    "Disney_Data = pd.read_csv(\"disney_movies.csv\")\n",
    "Disney_Data"
   ]
  },
  {
   "cell_type": "code",
   "execution_count": 8,
   "metadata": {
    "scrolled": true
   },
   "outputs": [
    {
     "data": {
      "text/html": [
       "<div>\n",
       "<style scoped>\n",
       "    .dataframe tbody tr th:only-of-type {\n",
       "        vertical-align: middle;\n",
       "    }\n",
       "\n",
       "    .dataframe tbody tr th {\n",
       "        vertical-align: top;\n",
       "    }\n",
       "\n",
       "    .dataframe thead th {\n",
       "        text-align: right;\n",
       "    }\n",
       "</style>\n",
       "<table border=\"1\" class=\"dataframe\">\n",
       "  <thead>\n",
       "    <tr style=\"text-align: right;\">\n",
       "      <th></th>\n",
       "      <th>movie_title</th>\n",
       "      <th>release_date</th>\n",
       "      <th>genre</th>\n",
       "      <th>mpaa_rating</th>\n",
       "      <th>total_gross</th>\n",
       "      <th>inflation_adjusted_gross</th>\n",
       "    </tr>\n",
       "  </thead>\n",
       "  <tbody>\n",
       "    <tr>\n",
       "      <th>569</th>\n",
       "      <td>Captain America: Civil War</td>\n",
       "      <td>2016-05-06</td>\n",
       "      <td>Action</td>\n",
       "      <td>PG-13</td>\n",
       "      <td>408084349</td>\n",
       "      <td>408084349</td>\n",
       "    </tr>\n",
       "    <tr>\n",
       "      <th>570</th>\n",
       "      <td>Alice Through the Looking Glass</td>\n",
       "      <td>2016-05-27</td>\n",
       "      <td>Adventure</td>\n",
       "      <td>PG</td>\n",
       "      <td>77042381</td>\n",
       "      <td>77042381</td>\n",
       "    </tr>\n",
       "    <tr>\n",
       "      <th>571</th>\n",
       "      <td>Finding Dory</td>\n",
       "      <td>2016-06-17</td>\n",
       "      <td>Adventure</td>\n",
       "      <td>PG</td>\n",
       "      <td>486295561</td>\n",
       "      <td>486295561</td>\n",
       "    </tr>\n",
       "    <tr>\n",
       "      <th>572</th>\n",
       "      <td>The BFG</td>\n",
       "      <td>2016-07-01</td>\n",
       "      <td>Adventure</td>\n",
       "      <td>PG</td>\n",
       "      <td>55483770</td>\n",
       "      <td>55483770</td>\n",
       "    </tr>\n",
       "    <tr>\n",
       "      <th>573</th>\n",
       "      <td>Pete’s Dragon</td>\n",
       "      <td>2016-08-12</td>\n",
       "      <td>Adventure</td>\n",
       "      <td>PG</td>\n",
       "      <td>76233151</td>\n",
       "      <td>76233151</td>\n",
       "    </tr>\n",
       "    <tr>\n",
       "      <th>574</th>\n",
       "      <td>The Light Between Oceans</td>\n",
       "      <td>2016-09-02</td>\n",
       "      <td>Drama</td>\n",
       "      <td>PG-13</td>\n",
       "      <td>12545979</td>\n",
       "      <td>12545979</td>\n",
       "    </tr>\n",
       "    <tr>\n",
       "      <th>575</th>\n",
       "      <td>Queen of Katwe</td>\n",
       "      <td>2016-09-23</td>\n",
       "      <td>Drama</td>\n",
       "      <td>PG</td>\n",
       "      <td>8874389</td>\n",
       "      <td>8874389</td>\n",
       "    </tr>\n",
       "    <tr>\n",
       "      <th>576</th>\n",
       "      <td>Doctor Strange</td>\n",
       "      <td>2016-11-04</td>\n",
       "      <td>Adventure</td>\n",
       "      <td>PG-13</td>\n",
       "      <td>232532923</td>\n",
       "      <td>232532923</td>\n",
       "    </tr>\n",
       "    <tr>\n",
       "      <th>577</th>\n",
       "      <td>Moana</td>\n",
       "      <td>2016-11-23</td>\n",
       "      <td>Adventure</td>\n",
       "      <td>PG</td>\n",
       "      <td>246082029</td>\n",
       "      <td>246082029</td>\n",
       "    </tr>\n",
       "    <tr>\n",
       "      <th>578</th>\n",
       "      <td>Rogue One: A Star Wars Story</td>\n",
       "      <td>2016-12-16</td>\n",
       "      <td>Adventure</td>\n",
       "      <td>PG-13</td>\n",
       "      <td>529483936</td>\n",
       "      <td>529483936</td>\n",
       "    </tr>\n",
       "  </tbody>\n",
       "</table>\n",
       "</div>"
      ],
      "text/plain": [
       "                         movie_title release_date      genre mpaa_rating  \\\n",
       "569       Captain America: Civil War   2016-05-06     Action       PG-13   \n",
       "570  Alice Through the Looking Glass   2016-05-27  Adventure          PG   \n",
       "571                     Finding Dory   2016-06-17  Adventure          PG   \n",
       "572                          The BFG   2016-07-01  Adventure          PG   \n",
       "573                    Pete’s Dragon   2016-08-12  Adventure          PG   \n",
       "574         The Light Between Oceans   2016-09-02      Drama       PG-13   \n",
       "575                   Queen of Katwe   2016-09-23      Drama          PG   \n",
       "576                   Doctor Strange   2016-11-04  Adventure       PG-13   \n",
       "577                            Moana   2016-11-23  Adventure          PG   \n",
       "578     Rogue One: A Star Wars Story   2016-12-16  Adventure       PG-13   \n",
       "\n",
       "     total_gross  inflation_adjusted_gross  \n",
       "569    408084349                 408084349  \n",
       "570     77042381                  77042381  \n",
       "571    486295561                 486295561  \n",
       "572     55483770                  55483770  \n",
       "573     76233151                  76233151  \n",
       "574     12545979                  12545979  \n",
       "575      8874389                   8874389  \n",
       "576    232532923                 232532923  \n",
       "577    246082029                 246082029  \n",
       "578    529483936                 529483936  "
      ]
     },
     "execution_count": 8,
     "metadata": {},
     "output_type": "execute_result"
    }
   ],
   "source": [
    "Disney_Data.tail(10)"
   ]
  },
  {
   "cell_type": "code",
   "execution_count": 14,
   "metadata": {},
   "outputs": [
    {
     "data": {
      "text/plain": [
       "movie_title                  0\n",
       "release_date                 0\n",
       "genre                       17\n",
       "mpaa_rating                 56\n",
       "total_gross                  0\n",
       "inflation_adjusted_gross     0\n",
       "dtype: int64"
      ]
     },
     "execution_count": 14,
     "metadata": {},
     "output_type": "execute_result"
    }
   ],
   "source": [
    "Disney_Data.isna().sum()"
   ]
  },
  {
   "cell_type": "code",
   "execution_count": 15,
   "metadata": {},
   "outputs": [
    {
     "data": {
      "text/plain": [
       "(579, 6)"
      ]
     },
     "execution_count": 15,
     "metadata": {},
     "output_type": "execute_result"
    }
   ],
   "source": [
    "Disney_Data.shape"
   ]
  },
  {
   "cell_type": "code",
   "execution_count": 18,
   "metadata": {
    "scrolled": true
   },
   "outputs": [],
   "source": [
    "Disney_Data=Disney_Data.dropna()"
   ]
  },
  {
   "cell_type": "code",
   "execution_count": 19,
   "metadata": {},
   "outputs": [
    {
     "data": {
      "text/plain": [
       "(513, 6)"
      ]
     },
     "execution_count": 19,
     "metadata": {},
     "output_type": "execute_result"
    }
   ],
   "source": [
    "Disney_Data.shape"
   ]
  },
  {
   "cell_type": "code",
   "execution_count": 20,
   "metadata": {},
   "outputs": [
    {
     "data": {
      "text/plain": [
       "movie_title                 0\n",
       "release_date                0\n",
       "genre                       0\n",
       "mpaa_rating                 0\n",
       "total_gross                 0\n",
       "inflation_adjusted_gross    0\n",
       "dtype: int64"
      ]
     },
     "execution_count": 20,
     "metadata": {},
     "output_type": "execute_result"
    }
   ],
   "source": [
    "Disney_Data.isna().sum()"
   ]
  },
  {
   "cell_type": "code",
   "execution_count": 24,
   "metadata": {},
   "outputs": [
    {
     "data": {
      "text/plain": [
       "movie_title                 object\n",
       "release_date                object\n",
       "genre                       object\n",
       "mpaa_rating                 object\n",
       "total_gross                  int64\n",
       "inflation_adjusted_gross     int64\n",
       "dtype: object"
      ]
     },
     "execution_count": 24,
     "metadata": {},
     "output_type": "execute_result"
    }
   ],
   "source": [
    "Disney_Data.dtypes"
   ]
  },
  {
   "cell_type": "code",
   "execution_count": 28,
   "metadata": {},
   "outputs": [],
   "source": [
    "def year(x):\n",
    "    return x.split('-')[0]"
   ]
  },
  {
   "cell_type": "code",
   "execution_count": 30,
   "metadata": {},
   "outputs": [
    {
     "data": {
      "text/plain": [
       "'1940'"
      ]
     },
     "execution_count": 30,
     "metadata": {},
     "output_type": "execute_result"
    }
   ],
   "source": [
    "'1940-02-09'.split('-')[0]"
   ]
  },
  {
   "cell_type": "code",
   "execution_count": 31,
   "metadata": {},
   "outputs": [],
   "source": [
    "Disney_Data['year']=Disney_Data['release_date'].apply(year)"
   ]
  },
  {
   "cell_type": "code",
   "execution_count": 33,
   "metadata": {},
   "outputs": [
    {
     "data": {
      "text/html": [
       "<div>\n",
       "<style scoped>\n",
       "    .dataframe tbody tr th:only-of-type {\n",
       "        vertical-align: middle;\n",
       "    }\n",
       "\n",
       "    .dataframe tbody tr th {\n",
       "        vertical-align: top;\n",
       "    }\n",
       "\n",
       "    .dataframe thead th {\n",
       "        text-align: right;\n",
       "    }\n",
       "</style>\n",
       "<table border=\"1\" class=\"dataframe\">\n",
       "  <thead>\n",
       "    <tr style=\"text-align: right;\">\n",
       "      <th></th>\n",
       "      <th>movie_title</th>\n",
       "      <th>release_date</th>\n",
       "      <th>genre</th>\n",
       "      <th>mpaa_rating</th>\n",
       "      <th>total_gross</th>\n",
       "      <th>inflation_adjusted_gross</th>\n",
       "      <th>year</th>\n",
       "    </tr>\n",
       "  </thead>\n",
       "  <tbody>\n",
       "    <tr>\n",
       "      <th>0</th>\n",
       "      <td>Snow White and the Seven Dwarfs</td>\n",
       "      <td>1937-12-21</td>\n",
       "      <td>Musical</td>\n",
       "      <td>G</td>\n",
       "      <td>184925485</td>\n",
       "      <td>5228953251</td>\n",
       "      <td>1937</td>\n",
       "    </tr>\n",
       "    <tr>\n",
       "      <th>1</th>\n",
       "      <td>Pinocchio</td>\n",
       "      <td>1940-02-09</td>\n",
       "      <td>Adventure</td>\n",
       "      <td>G</td>\n",
       "      <td>84300000</td>\n",
       "      <td>2188229052</td>\n",
       "      <td>1940</td>\n",
       "    </tr>\n",
       "    <tr>\n",
       "      <th>2</th>\n",
       "      <td>Fantasia</td>\n",
       "      <td>1940-11-13</td>\n",
       "      <td>Musical</td>\n",
       "      <td>G</td>\n",
       "      <td>83320000</td>\n",
       "      <td>2187090808</td>\n",
       "      <td>1940</td>\n",
       "    </tr>\n",
       "    <tr>\n",
       "      <th>3</th>\n",
       "      <td>Song of the South</td>\n",
       "      <td>1946-11-12</td>\n",
       "      <td>Adventure</td>\n",
       "      <td>G</td>\n",
       "      <td>65000000</td>\n",
       "      <td>1078510579</td>\n",
       "      <td>1946</td>\n",
       "    </tr>\n",
       "    <tr>\n",
       "      <th>4</th>\n",
       "      <td>Cinderella</td>\n",
       "      <td>1950-02-15</td>\n",
       "      <td>Drama</td>\n",
       "      <td>G</td>\n",
       "      <td>85000000</td>\n",
       "      <td>920608730</td>\n",
       "      <td>1950</td>\n",
       "    </tr>\n",
       "    <tr>\n",
       "      <th>6</th>\n",
       "      <td>Lady and the Tramp</td>\n",
       "      <td>1955-06-22</td>\n",
       "      <td>Drama</td>\n",
       "      <td>G</td>\n",
       "      <td>93600000</td>\n",
       "      <td>1236035515</td>\n",
       "      <td>1955</td>\n",
       "    </tr>\n",
       "    <tr>\n",
       "      <th>8</th>\n",
       "      <td>101 Dalmatians</td>\n",
       "      <td>1961-01-25</td>\n",
       "      <td>Comedy</td>\n",
       "      <td>G</td>\n",
       "      <td>153000000</td>\n",
       "      <td>1362870985</td>\n",
       "      <td>1961</td>\n",
       "    </tr>\n",
       "    <tr>\n",
       "      <th>10</th>\n",
       "      <td>Babes in Toyland</td>\n",
       "      <td>1961-12-14</td>\n",
       "      <td>Musical</td>\n",
       "      <td>G</td>\n",
       "      <td>10218316</td>\n",
       "      <td>124841160</td>\n",
       "      <td>1961</td>\n",
       "    </tr>\n",
       "    <tr>\n",
       "      <th>11</th>\n",
       "      <td>Bon Voyage!</td>\n",
       "      <td>1962-05-17</td>\n",
       "      <td>Comedy</td>\n",
       "      <td>Not Rated</td>\n",
       "      <td>9230769</td>\n",
       "      <td>109581646</td>\n",
       "      <td>1962</td>\n",
       "    </tr>\n",
       "    <tr>\n",
       "      <th>13</th>\n",
       "      <td>The Jungle Book</td>\n",
       "      <td>1967-10-18</td>\n",
       "      <td>Musical</td>\n",
       "      <td>Not Rated</td>\n",
       "      <td>141843000</td>\n",
       "      <td>789612346</td>\n",
       "      <td>1967</td>\n",
       "    </tr>\n",
       "  </tbody>\n",
       "</table>\n",
       "</div>"
      ],
      "text/plain": [
       "                        movie_title release_date      genre mpaa_rating  \\\n",
       "0   Snow White and the Seven Dwarfs   1937-12-21    Musical           G   \n",
       "1                         Pinocchio   1940-02-09  Adventure           G   \n",
       "2                          Fantasia   1940-11-13    Musical           G   \n",
       "3                 Song of the South   1946-11-12  Adventure           G   \n",
       "4                        Cinderella   1950-02-15      Drama           G   \n",
       "6                Lady and the Tramp   1955-06-22      Drama           G   \n",
       "8                    101 Dalmatians   1961-01-25     Comedy           G   \n",
       "10                 Babes in Toyland   1961-12-14    Musical           G   \n",
       "11                      Bon Voyage!   1962-05-17     Comedy   Not Rated   \n",
       "13                  The Jungle Book   1967-10-18    Musical   Not Rated   \n",
       "\n",
       "    total_gross  inflation_adjusted_gross  year  \n",
       "0     184925485                5228953251  1937  \n",
       "1      84300000                2188229052  1940  \n",
       "2      83320000                2187090808  1940  \n",
       "3      65000000                1078510579  1946  \n",
       "4      85000000                 920608730  1950  \n",
       "6      93600000                1236035515  1955  \n",
       "8     153000000                1362870985  1961  \n",
       "10     10218316                 124841160  1961  \n",
       "11      9230769                 109581646  1962  \n",
       "13    141843000                 789612346  1967  "
      ]
     },
     "execution_count": 33,
     "metadata": {},
     "output_type": "execute_result"
    }
   ],
   "source": [
    "Disney_Data.head(10)"
   ]
  },
  {
   "cell_type": "code",
   "execution_count": 36,
   "metadata": {},
   "outputs": [
    {
     "data": {
      "text/plain": [
       "array(['1937', '1940', '1946', '1950', '1955', '1961', '1962', '1967',\n",
       "       '1970', '1984', '1986', '1987', '1988', '1989', '1990', '1991',\n",
       "       '1992', '1993', '1994', '1995', '1996', '1997', '1998', '1999',\n",
       "       '2000', '2001', '2002', '2003', '2004', '2005', '2006', '2007',\n",
       "       '2008', '2009', '2010', '2011', '2012', '2013', '2014', '2015',\n",
       "       '2016'], dtype=object)"
      ]
     },
     "execution_count": 36,
     "metadata": {},
     "output_type": "execute_result"
    }
   ],
   "source": [
    "Disney_Data['year'].unique()"
   ]
  },
  {
   "cell_type": "code",
   "execution_count": 37,
   "metadata": {},
   "outputs": [],
   "source": [
    "Disney_Data['year']=Disney_Data['year'].astype(int)"
   ]
  },
  {
   "cell_type": "code",
   "execution_count": 38,
   "metadata": {},
   "outputs": [
    {
     "data": {
      "text/html": [
       "<div>\n",
       "<style scoped>\n",
       "    .dataframe tbody tr th:only-of-type {\n",
       "        vertical-align: middle;\n",
       "    }\n",
       "\n",
       "    .dataframe tbody tr th {\n",
       "        vertical-align: top;\n",
       "    }\n",
       "\n",
       "    .dataframe thead th {\n",
       "        text-align: right;\n",
       "    }\n",
       "</style>\n",
       "<table border=\"1\" class=\"dataframe\">\n",
       "  <thead>\n",
       "    <tr style=\"text-align: right;\">\n",
       "      <th></th>\n",
       "      <th>movie_title</th>\n",
       "      <th>release_date</th>\n",
       "      <th>genre</th>\n",
       "      <th>mpaa_rating</th>\n",
       "      <th>total_gross</th>\n",
       "      <th>inflation_adjusted_gross</th>\n",
       "      <th>year</th>\n",
       "    </tr>\n",
       "  </thead>\n",
       "  <tbody>\n",
       "    <tr>\n",
       "      <th>564</th>\n",
       "      <td>Star Wars Ep. VII: The Force Awakens</td>\n",
       "      <td>2015-12-18</td>\n",
       "      <td>Adventure</td>\n",
       "      <td>PG-13</td>\n",
       "      <td>936662225</td>\n",
       "      <td>936662225</td>\n",
       "      <td>2015</td>\n",
       "    </tr>\n",
       "  </tbody>\n",
       "</table>\n",
       "</div>"
      ],
      "text/plain": [
       "                              movie_title release_date      genre mpaa_rating  \\\n",
       "564  Star Wars Ep. VII: The Force Awakens   2015-12-18  Adventure       PG-13   \n",
       "\n",
       "     total_gross  inflation_adjusted_gross  year  \n",
       "564    936662225                 936662225  2015  "
      ]
     },
     "execution_count": 38,
     "metadata": {},
     "output_type": "execute_result"
    }
   ],
   "source": [
    "Disney_Data.nlargest(n=1,columns=['total_gross'])"
   ]
  },
  {
   "cell_type": "code",
   "execution_count": 39,
   "metadata": {},
   "outputs": [
    {
     "data": {
      "text/html": [
       "<div>\n",
       "<style scoped>\n",
       "    .dataframe tbody tr th:only-of-type {\n",
       "        vertical-align: middle;\n",
       "    }\n",
       "\n",
       "    .dataframe tbody tr th {\n",
       "        vertical-align: top;\n",
       "    }\n",
       "\n",
       "    .dataframe thead th {\n",
       "        text-align: right;\n",
       "    }\n",
       "</style>\n",
       "<table border=\"1\" class=\"dataframe\">\n",
       "  <thead>\n",
       "    <tr style=\"text-align: right;\">\n",
       "      <th></th>\n",
       "      <th>movie_title</th>\n",
       "      <th>release_date</th>\n",
       "      <th>genre</th>\n",
       "      <th>mpaa_rating</th>\n",
       "      <th>total_gross</th>\n",
       "      <th>inflation_adjusted_gross</th>\n",
       "      <th>year</th>\n",
       "    </tr>\n",
       "  </thead>\n",
       "  <tbody>\n",
       "    <tr>\n",
       "      <th>511</th>\n",
       "      <td>Zokkomon</td>\n",
       "      <td>2011-04-22</td>\n",
       "      <td>Adventure</td>\n",
       "      <td>PG</td>\n",
       "      <td>2815</td>\n",
       "      <td>2984</td>\n",
       "      <td>2011</td>\n",
       "    </tr>\n",
       "  </tbody>\n",
       "</table>\n",
       "</div>"
      ],
      "text/plain": [
       "    movie_title release_date      genre mpaa_rating  total_gross  \\\n",
       "511    Zokkomon   2011-04-22  Adventure          PG         2815   \n",
       "\n",
       "     inflation_adjusted_gross  year  \n",
       "511                      2984  2011  "
      ]
     },
     "execution_count": 39,
     "metadata": {},
     "output_type": "execute_result"
    }
   ],
   "source": [
    "Disney_Data.nsmallest(n=1,columns=['total_gross'])"
   ]
  },
  {
   "cell_type": "markdown",
   "metadata": {},
   "source": [
    "## Task 2: Visualize Year Distribution Plot"
   ]
  },
  {
   "cell_type": "code",
   "execution_count": 45,
   "metadata": {},
   "outputs": [
    {
     "data": {
      "image/png": "[encoded data removed]",
      "text/plain": [
       "<Figure size 864x648 with 1 Axes>"
      ]
     },
     "metadata": {
      "needs_background": "light"
     },
     "output_type": "display_data"
    }
   ],
   "source": [
    "Disney_Data.groupby('year')['year'].count().plot(kind='bar',figsize=(12,9),color='green')"
   ]
  },
  {
   "cell_type": "markdown",
   "metadata": {},
   "source": [
    "## Task 3: Does Movies Income Decreased or Increased?"
   ]
  },
  {
   "cell_type": "code",
   "execution_count": 51,
   "metadata": {},
   "outputs": [
    {
     "data": {
      "image/png": "[encoded data removed]",
      "text/plain": [
       "<Figure size 720x720 with 1 Axes>"
      ]
     },
     "metadata": {
      "needs_background": "light"
     },
     "output_type": "display_data"
    }
   ],
   "source": [
    "fig,ax=plt.subplots(figsize=(10,10))\n",
    "sns.lineplot(x='year',y='total_gross',data=Disney_Data)\n",
    "plt.show()"
   ]
  },
  {
   "cell_type": "code",
   "execution_count": 52,
   "metadata": {},
   "outputs": [
    {
     "data": {
      "text/plain": [
       "(array([ 0,  1,  2,  3,  4,  5,  6,  7,  8,  9, 10, 11, 12, 13, 14, 15, 16,\n",
       "        17, 18, 19, 20, 21, 22, 23, 24, 25, 26, 27, 28, 29, 30, 31, 32, 33,\n",
       "        34, 35, 36, 37, 38, 39, 40]),\n",
       " [Text(0, 0, '1937'),\n",
       "  Text(1, 0, '1940'),\n",
       "  Text(2, 0, '1946'),\n",
       "  Text(3, 0, '1950'),\n",
       "  Text(4, 0, '1955'),\n",
       "  Text(5, 0, '1961'),\n",
       "  Text(6, 0, '1962'),\n",
       "  Text(7, 0, '1967'),\n",
       "  Text(8, 0, '1970'),\n",
       "  Text(9, 0, '1984'),\n",
       "  Text(10, 0, '1986'),\n",
       "  Text(11, 0, '1987'),\n",
       "  Text(12, 0, '1988'),\n",
       "  Text(13, 0, '1989'),\n",
       "  Text(14, 0, '1990'),\n",
       "  Text(15, 0, '1991'),\n",
       "  Text(16, 0, '1992'),\n",
       "  Text(17, 0, '1993'),\n",
       "  Text(18, 0, '1994'),\n",
       "  Text(19, 0, '1995'),\n",
       "  Text(20, 0, '1996'),\n",
       "  Text(21, 0, '1997'),\n",
       "  Text(22, 0, '1998'),\n",
       "  Text(23, 0, '1999'),\n",
       "  Text(24, 0, '2000'),\n",
       "  Text(25, 0, '2001'),\n",
       "  Text(26, 0, '2002'),\n",
       "  Text(27, 0, '2003'),\n",
       "  Text(28, 0, '2004'),\n",
       "  Text(29, 0, '2005'),\n",
       "  Text(30, 0, '2006'),\n",
       "  Text(31, 0, '2007'),\n",
       "  Text(32, 0, '2008'),\n",
       "  Text(33, 0, '2009'),\n",
       "  Text(34, 0, '2010'),\n",
       "  Text(35, 0, '2011'),\n",
       "  Text(36, 0, '2012'),\n",
       "  Text(37, 0, '2013'),\n",
       "  Text(38, 0, '2014'),\n",
       "  Text(39, 0, '2015'),\n",
       "  Text(40, 0, '2016')])"
      ]
     },
     "execution_count": 52,
     "metadata": {},
     "output_type": "execute_result"
    },
    {
     "data": {
      "image/png": "[encoded data removed]",
      "text/plain": [
       "<Figure size 864x432 with 1 Axes>"
      ]
     },
     "metadata": {
      "needs_background": "light"
     },
     "output_type": "display_data"
    }
   ],
   "source": [
    "fg=sns.factorplot(x='year',y='total_gross',size=6,aspect=2,kinds='bar',data=Disney_Data)\n",
    "plt.xticks(rotation='vertical')"
   ]
  },
  {
   "cell_type": "markdown",
   "metadata": {},
   "source": [
    "## Task 4: Describe the total counts of Genres"
   ]
  },
  {
   "cell_type": "code",
   "execution_count": 54,
   "metadata": {},
   "outputs": [
    {
     "data": {
      "text/plain": [
       "movie_title                 object\n",
       "release_date                object\n",
       "genre                       object\n",
       "mpaa_rating                 object\n",
       "total_gross                  int64\n",
       "inflation_adjusted_gross     int64\n",
       "year                         int32\n",
       "dtype: object"
      ]
     },
     "execution_count": 54,
     "metadata": {},
     "output_type": "execute_result"
    }
   ],
   "source": [
    "Disney_Data.dtypes"
   ]
  },
  {
   "cell_type": "code",
   "execution_count": 56,
   "metadata": {},
   "outputs": [
    {
     "data": {
      "text/plain": [
       "array(['Musical', 'Adventure', 'Drama', 'Comedy', 'Romantic Comedy',\n",
       "       'Action', 'Thriller/Suspense', 'Horror', 'Western', 'Black Comedy',\n",
       "       'Documentary', 'Concert/Performance'], dtype=object)"
      ]
     },
     "execution_count": 56,
     "metadata": {},
     "output_type": "execute_result"
    }
   ],
   "source": [
    "Disney_Data['genre'].unique()"
   ]
  },
  {
   "cell_type": "code",
   "execution_count": 59,
   "metadata": {},
   "outputs": [
    {
     "data": {
      "text/plain": [
       "Text(0.5, 1.0, 'Genre')"
      ]
     },
     "execution_count": 59,
     "metadata": {},
     "output_type": "execute_result"
    },
    {
     "data": {
      "image/png": "[encoded data removed]",
      "text/plain": [
       "<Figure size 1296x720 with 1 Axes>"
      ]
     },
     "metadata": {
      "needs_background": "light"
     },
     "output_type": "display_data"
    }
   ],
   "source": [
    "fig,ax=plt.subplots(figsize=(18,10))\n",
    "sns.countplot(x='genre',data=Disney_Data).set_title('Genre')"
   ]
  }
 ],
 "metadata": {
  "kernelspec": {
   "display_name": "Python 3 (ipykernel)",
   "language": "python",
   "name": "python3"
  },
  "language_info": {
   "codemirror_mode": {
    "name": "ipython",
    "version": 3
   },
   "file_extension": ".py",
   "mimetype": "text/x-python",
   "name": "python",
   "nbconvert_exporter": "python",
   "pygments_lexer": "ipython3",
   "version": "3.9.12"
  }
 },
 "nbformat": 4,
 "nbformat_minor": 2
}
